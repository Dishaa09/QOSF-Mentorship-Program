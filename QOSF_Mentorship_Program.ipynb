{
  "nbformat": 4,
  "nbformat_minor": 0,
  "metadata": {
    "colab": {
      "provenance": [],
      "authorship_tag": "ABX9TyNsvIOkHx2QUWl6TgAsrW8l"
    },
    "kernelspec": {
      "name": "python3",
      "display_name": "Python 3"
    },
    "language_info": {
      "name": "python"
    }
  },
  "cells": [
    {
      "cell_type": "code",
      "source": [
        "pip install qiskit"
      ],
      "metadata": {
        "collapsed": true,
        "colab": {
          "base_uri": "https://localhost:8080/"
        },
        "id": "pJH0HZ2QSEjk",
        "outputId": "d8621060-a12e-48c0-d976-e46eaea39a62"
      },
      "execution_count": 2,
      "outputs": [
        {
          "output_type": "stream",
          "name": "stdout",
          "text": [
            "Collecting qiskit\n",
            "  Downloading qiskit-1.2.4-cp38-abi3-manylinux_2_17_x86_64.manylinux2014_x86_64.whl.metadata (12 kB)\n",
            "Collecting rustworkx>=0.15.0 (from qiskit)\n",
            "  Downloading rustworkx-0.15.1-cp38-abi3-manylinux_2_17_x86_64.manylinux2014_x86_64.whl.metadata (9.9 kB)\n",
            "Requirement already satisfied: numpy<3,>=1.17 in /usr/local/lib/python3.10/dist-packages (from qiskit) (1.26.4)\n",
            "Requirement already satisfied: scipy>=1.5 in /usr/local/lib/python3.10/dist-packages (from qiskit) (1.13.1)\n",
            "Requirement already satisfied: sympy>=1.3 in /usr/local/lib/python3.10/dist-packages (from qiskit) (1.13.1)\n",
            "Collecting dill>=0.3 (from qiskit)\n",
            "  Downloading dill-0.3.9-py3-none-any.whl.metadata (10 kB)\n",
            "Requirement already satisfied: python-dateutil>=2.8.0 in /usr/local/lib/python3.10/dist-packages (from qiskit) (2.8.2)\n",
            "Collecting stevedore>=3.0.0 (from qiskit)\n",
            "  Downloading stevedore-5.3.0-py3-none-any.whl.metadata (2.3 kB)\n",
            "Requirement already satisfied: typing-extensions in /usr/local/lib/python3.10/dist-packages (from qiskit) (4.12.2)\n",
            "Collecting symengine<0.14,>=0.11 (from qiskit)\n",
            "  Downloading symengine-0.13.0-cp310-cp310-manylinux_2_17_x86_64.manylinux2014_x86_64.whl.metadata (1.2 kB)\n",
            "Requirement already satisfied: six>=1.5 in /usr/local/lib/python3.10/dist-packages (from python-dateutil>=2.8.0->qiskit) (1.16.0)\n",
            "Collecting pbr>=2.0.0 (from stevedore>=3.0.0->qiskit)\n",
            "  Downloading pbr-6.1.0-py2.py3-none-any.whl.metadata (3.4 kB)\n",
            "Requirement already satisfied: mpmath<1.4,>=1.1.0 in /usr/local/lib/python3.10/dist-packages (from sympy>=1.3->qiskit) (1.3.0)\n",
            "Downloading qiskit-1.2.4-cp38-abi3-manylinux_2_17_x86_64.manylinux2014_x86_64.whl (4.8 MB)\n",
            "\u001b[2K   \u001b[90m━━━━━━━━━━━━━━━━━━━━━━━━━━━━━━━━━━━━━━━━\u001b[0m \u001b[32m4.8/4.8 MB\u001b[0m \u001b[31m37.8 MB/s\u001b[0m eta \u001b[36m0:00:00\u001b[0m\n",
            "\u001b[?25hDownloading dill-0.3.9-py3-none-any.whl (119 kB)\n",
            "\u001b[2K   \u001b[90m━━━━━━━━━━━━━━━━━━━━━━━━━━━━━━━━━━━━━━━━\u001b[0m \u001b[32m119.4/119.4 kB\u001b[0m \u001b[31m8.9 MB/s\u001b[0m eta \u001b[36m0:00:00\u001b[0m\n",
            "\u001b[?25hDownloading rustworkx-0.15.1-cp38-abi3-manylinux_2_17_x86_64.manylinux2014_x86_64.whl (2.0 MB)\n",
            "\u001b[2K   \u001b[90m━━━━━━━━━━━━━━━━━━━━━━━━━━━━━━━━━━━━━━━━\u001b[0m \u001b[32m2.0/2.0 MB\u001b[0m \u001b[31m62.8 MB/s\u001b[0m eta \u001b[36m0:00:00\u001b[0m\n",
            "\u001b[?25hDownloading stevedore-5.3.0-py3-none-any.whl (49 kB)\n",
            "\u001b[2K   \u001b[90m━━━━━━━━━━━━━━━━━━━━━━━━━━━━━━━━━━━━━━━━\u001b[0m \u001b[32m49.7/49.7 kB\u001b[0m \u001b[31m3.5 MB/s\u001b[0m eta \u001b[36m0:00:00\u001b[0m\n",
            "\u001b[?25hDownloading symengine-0.13.0-cp310-cp310-manylinux_2_17_x86_64.manylinux2014_x86_64.whl (49.7 MB)\n",
            "\u001b[2K   \u001b[90m━━━━━━━━━━━━━━━━━━━━━━━━━━━━━━━━━━━━━━━━\u001b[0m \u001b[32m49.7/49.7 MB\u001b[0m \u001b[31m17.2 MB/s\u001b[0m eta \u001b[36m0:00:00\u001b[0m\n",
            "\u001b[?25hDownloading pbr-6.1.0-py2.py3-none-any.whl (108 kB)\n",
            "\u001b[2K   \u001b[90m━━━━━━━━━━━━━━━━━━━━━━━━━━━━━━━━━━━━━━━━\u001b[0m \u001b[32m108.5/108.5 kB\u001b[0m \u001b[31m7.9 MB/s\u001b[0m eta \u001b[36m0:00:00\u001b[0m\n",
            "\u001b[?25hInstalling collected packages: symengine, rustworkx, pbr, dill, stevedore, qiskit\n",
            "Successfully installed dill-0.3.9 pbr-6.1.0 qiskit-1.2.4 rustworkx-0.15.1 stevedore-5.3.0 symengine-0.13.0\n"
          ]
        }
      ]
    },
    {
      "cell_type": "code",
      "source": [
        "pip install -U qiskit-aer"
      ],
      "metadata": {
        "collapsed": true,
        "colab": {
          "base_uri": "https://localhost:8080/"
        },
        "id": "oCDW_JjsSIlM",
        "outputId": "42adced7-c9d3-48ec-d5da-ca882c8199c5"
      },
      "execution_count": 3,
      "outputs": [
        {
          "output_type": "stream",
          "name": "stdout",
          "text": [
            "Collecting qiskit-aer\n",
            "  Downloading qiskit_aer-0.15.1-cp310-cp310-manylinux_2_17_x86_64.manylinux2014_x86_64.whl.metadata (8.0 kB)\n",
            "Requirement already satisfied: qiskit>=1.1.0 in /usr/local/lib/python3.10/dist-packages (from qiskit-aer) (1.2.4)\n",
            "Requirement already satisfied: numpy>=1.16.3 in /usr/local/lib/python3.10/dist-packages (from qiskit-aer) (1.26.4)\n",
            "Requirement already satisfied: scipy>=1.0 in /usr/local/lib/python3.10/dist-packages (from qiskit-aer) (1.13.1)\n",
            "Requirement already satisfied: psutil>=5 in /usr/local/lib/python3.10/dist-packages (from qiskit-aer) (5.9.5)\n",
            "Requirement already satisfied: rustworkx>=0.15.0 in /usr/local/lib/python3.10/dist-packages (from qiskit>=1.1.0->qiskit-aer) (0.15.1)\n",
            "Requirement already satisfied: sympy>=1.3 in /usr/local/lib/python3.10/dist-packages (from qiskit>=1.1.0->qiskit-aer) (1.13.1)\n",
            "Requirement already satisfied: dill>=0.3 in /usr/local/lib/python3.10/dist-packages (from qiskit>=1.1.0->qiskit-aer) (0.3.9)\n",
            "Requirement already satisfied: python-dateutil>=2.8.0 in /usr/local/lib/python3.10/dist-packages (from qiskit>=1.1.0->qiskit-aer) (2.8.2)\n",
            "Requirement already satisfied: stevedore>=3.0.0 in /usr/local/lib/python3.10/dist-packages (from qiskit>=1.1.0->qiskit-aer) (5.3.0)\n",
            "Requirement already satisfied: typing-extensions in /usr/local/lib/python3.10/dist-packages (from qiskit>=1.1.0->qiskit-aer) (4.12.2)\n",
            "Requirement already satisfied: symengine<0.14,>=0.11 in /usr/local/lib/python3.10/dist-packages (from qiskit>=1.1.0->qiskit-aer) (0.13.0)\n",
            "Requirement already satisfied: six>=1.5 in /usr/local/lib/python3.10/dist-packages (from python-dateutil>=2.8.0->qiskit>=1.1.0->qiskit-aer) (1.16.0)\n",
            "Requirement already satisfied: pbr>=2.0.0 in /usr/local/lib/python3.10/dist-packages (from stevedore>=3.0.0->qiskit>=1.1.0->qiskit-aer) (6.1.0)\n",
            "Requirement already satisfied: mpmath<1.4,>=1.1.0 in /usr/local/lib/python3.10/dist-packages (from sympy>=1.3->qiskit>=1.1.0->qiskit-aer) (1.3.0)\n",
            "Downloading qiskit_aer-0.15.1-cp310-cp310-manylinux_2_17_x86_64.manylinux2014_x86_64.whl (12.3 MB)\n",
            "\u001b[2K   \u001b[90m━━━━━━━━━━━━━━━━━━━━━━━━━━━━━━━━━━━━━━━━\u001b[0m \u001b[32m12.3/12.3 MB\u001b[0m \u001b[31m83.4 MB/s\u001b[0m eta \u001b[36m0:00:00\u001b[0m\n",
            "\u001b[?25hInstalling collected packages: qiskit-aer\n",
            "Successfully installed qiskit-aer-0.15.1\n"
          ]
        }
      ]
    },
    {
      "cell_type": "code",
      "source": [
        "from qiskit_aer import Aer"
      ],
      "metadata": {
        "id": "2yo3CYSFSN8C"
      },
      "execution_count": 22,
      "outputs": []
    },
    {
      "cell_type": "code",
      "source": [
        "from qiskit import QuantumCircuit, transpile\n",
        "from qiskit.visualization import plot_histogram\n",
        "import numpy as np"
      ],
      "metadata": {
        "id": "-lENYfRnBzAE"
      },
      "execution_count": 23,
      "outputs": []
    },
    {
      "cell_type": "code",
      "source": [
        "size = 5\n",
        "state_values = [22, 17, 27, 12]\n",
        "target_amplitude = 0.5 / np.sqrt(len(state_values))"
      ],
      "metadata": {
        "id": "18D3_E-BR8io"
      },
      "execution_count": 24,
      "outputs": []
    },
    {
      "cell_type": "code",
      "source": [
        "qc = QuantumCircuit(size)"
      ],
      "metadata": {
        "id": "obwY9EKUSaAR"
      },
      "execution_count": 25,
      "outputs": []
    },
    {
      "cell_type": "code",
      "source": [
        "\n",
        "qc.x([4, 2, 1])   # |10110⟩\n",
        "qc.x([4, 0])       # |10001⟩\n",
        "qc.x([4, 3, 1, 0]) # |11011⟩\n",
        "qc.x([3, 2])       # |01100⟩"
      ],
      "metadata": {
        "colab": {
          "base_uri": "https://localhost:8080/"
        },
        "id": "PqfSPIGCScnu",
        "outputId": "b6df16dc-26f6-4e05-e2a3-2411b55cb292"
      },
      "execution_count": 26,
      "outputs": [
        {
          "output_type": "execute_result",
          "data": {
            "text/plain": [
              "<qiskit.circuit.instructionset.InstructionSet at 0x7a5ffb9cb4c0>"
            ]
          },
          "metadata": {},
          "execution_count": 26
        }
      ]
    },
    {
      "cell_type": "code",
      "source": [
        "\n",
        "qc.rz(np.pi/4, 4)\n",
        "qc.rz(np.pi/8, 3)\n",
        "qc.rz(np.pi/6, 2)\n",
        "qc.rz(np.pi/12, 1)\n",
        "qc.rz(np.pi/10, 0)"
      ],
      "metadata": {
        "colab": {
          "base_uri": "https://localhost:8080/"
        },
        "id": "-fm-pRSOSgXi",
        "outputId": "acaad36f-f87d-4c17-a2e1-4bc56c6dd10d"
      },
      "execution_count": 27,
      "outputs": [
        {
          "output_type": "execute_result",
          "data": {
            "text/plain": [
              "<qiskit.circuit.instructionset.InstructionSet at 0x7a5ffb9caa10>"
            ]
          },
          "metadata": {},
          "execution_count": 27
        }
      ]
    },
    {
      "cell_type": "code",
      "source": [
        "\n",
        "qc.cx(4, 0)\n",
        "qc.cx(4, 1)\n",
        "qc.cx(4, 2)\n",
        "qc.cx(4, 3)"
      ],
      "metadata": {
        "colab": {
          "base_uri": "https://localhost:8080/"
        },
        "id": "Pg3EDSj_SjEx",
        "outputId": "f2adf341-7f4c-4996-9703-c80ba2b78f9f"
      },
      "execution_count": 28,
      "outputs": [
        {
          "output_type": "execute_result",
          "data": {
            "text/plain": [
              "<qiskit.circuit.instructionset.InstructionSet at 0x7a5ffb9c9ba0>"
            ]
          },
          "metadata": {},
          "execution_count": 28
        }
      ]
    },
    {
      "cell_type": "code",
      "source": [
        "from qiskit import transpile\n",
        "coupling_map = [[0, 4], [1, 4], [2, 4], [3, 4], [0, 1], [2, 3]]\n",
        "optimized_circuit = transpile(qc, basis_gates=['x', 'h', 'rz', 'cx'], coupling_map=coupling_map, optimization_level=3)\n",
        "optimized_circuit.draw()"
      ],
      "metadata": {
        "colab": {
          "base_uri": "https://localhost:8080/",
          "height": 186
        },
        "id": "keIYsHgjSlR1",
        "outputId": "d328dcd1-eeeb-4320-bea8-51a92b023af3"
      },
      "execution_count": 32,
      "outputs": [
        {
          "output_type": "execute_result",
          "data": {
            "text/plain": [
              "         ┌──────────┐   ┌───┐                  ┌───┐          \n",
              "q_1 -> 0 ┤ Rz(π/12) ├───┤ H ├───────────────■──┤ H ├──────────\n",
              "         ├──────────┤   ├───┤               │  ├───┤          \n",
              "q_0 -> 1 ┤ Rz(π/10) ├───┤ H ├──────────■────┼──┤ H ├──────────\n",
              "         ├─────────┬┘   ├───┤          │    │  └───┘     ┌───┐\n",
              "q_3 -> 2 ┤ Rz(π/8) ├────┤ H ├──────────┼────┼─────────■──┤ H ├\n",
              "         ├─────────┤    ├───┤          │    │         │  ├───┤\n",
              "q_2 -> 3 ┤ Rz(π/6) ├────┤ H ├──────────┼────┼────■────┼──┤ H ├\n",
              "         └──┬───┬──┘ ┌──┴───┴──┐┌───┐┌─┴─┐┌─┴─┐┌─┴─┐┌─┴─┐├───┤\n",
              "q_4 -> 4 ───┤ X ├────┤ Rz(π/4) ├┤ H ├┤ X ├┤ X ├┤ X ├┤ X ├┤ H ├\n",
              "            └───┘    └─────────┘└───┘└───┘└───┘└───┘└───┘└───┘"
            ],
            "text/html": [
              "<pre style=\"word-wrap: normal;white-space: pre;background: #fff0;line-height: 1.1;font-family: &quot;Courier New&quot;,Courier,monospace\">         ┌──────────┐   ┌───┐                  ┌───┐          \n",
              "q_1 -> 0 ┤ Rz(π/12) ├───┤ H ├───────────────■──┤ H ├──────────\n",
              "         ├──────────┤   ├───┤               │  ├───┤          \n",
              "q_0 -> 1 ┤ Rz(π/10) ├───┤ H ├──────────■────┼──┤ H ├──────────\n",
              "         ├─────────┬┘   ├───┤          │    │  └───┘     ┌───┐\n",
              "q_3 -> 2 ┤ Rz(π/8) ├────┤ H ├──────────┼────┼─────────■──┤ H ├\n",
              "         ├─────────┤    ├───┤          │    │         │  ├───┤\n",
              "q_2 -> 3 ┤ Rz(π/6) ├────┤ H ├──────────┼────┼────■────┼──┤ H ├\n",
              "         └──┬───┬──┘ ┌──┴───┴──┐┌───┐┌─┴─┐┌─┴─┐┌─┴─┐┌─┴─┐├───┤\n",
              "q_4 -> 4 ───┤ X ├────┤ Rz(π/4) ├┤ H ├┤ X ├┤ X ├┤ X ├┤ X ├┤ H ├\n",
              "            └───┘    └─────────┘└───┘└───┘└───┘└───┘└───┘└───┘</pre>"
            ]
          },
          "metadata": {},
          "execution_count": 32
        }
      ]
    },
    {
      "cell_type": "code",
      "source": [
        "simulator = Aer.get_backend('statevector_simulator')"
      ],
      "metadata": {
        "id": "LKqv2_eVSpOT"
      },
      "execution_count": 12,
      "outputs": []
    },
    {
      "cell_type": "code",
      "source": [
        "transpiled_qc = transpile(qc, simulator)"
      ],
      "metadata": {
        "id": "zikRMymNSsKD"
      },
      "execution_count": 13,
      "outputs": []
    },
    {
      "cell_type": "code",
      "source": [
        "result = simulator.run(transpiled_qc).result()\n",
        "statevector = result.get_statevector()"
      ],
      "metadata": {
        "id": "2b0JRNK_TGvv"
      },
      "execution_count": 15,
      "outputs": []
    },
    {
      "cell_type": "code",
      "source": [
        "print(\"Generated State Vector:\", statevector)"
      ],
      "metadata": {
        "id": "g8EuHvWmTORx"
      },
      "execution_count": null,
      "outputs": []
    },
    {
      "cell_type": "code",
      "source": [
        "print(\"Circuit Depth:\", optimized_circuit.depth())"
      ],
      "metadata": {
        "colab": {
          "base_uri": "https://localhost:8080/"
        },
        "id": "Hy5bVzl7TQ-0",
        "outputId": "45a0e980-65b7-4433-e129-777d93c131f4"
      },
      "execution_count": 17,
      "outputs": [
        {
          "output_type": "stream",
          "name": "stdout",
          "text": [
            "Circuit Depth: 8\n"
          ]
        }
      ]
    },
    {
      "cell_type": "code",
      "source": [
        "print(optimized_circuit)"
      ],
      "metadata": {
        "colab": {
          "base_uri": "https://localhost:8080/"
        },
        "id": "s2-NWSN0TTPd",
        "outputId": "29c0d253-a941-4b65-b3a4-12a1dd25228b"
      },
      "execution_count": 18,
      "outputs": [
        {
          "output_type": "stream",
          "name": "stdout",
          "text": [
            "         ┌─────────┐    ┌───┐                                 ┌───┐\n",
            "q_3 -> 0 ┤ Rz(π/8) ├────┤ H ├──────────────────────────────■──┤ H ├\n",
            "         ├─────────┤    ├───┤                              │  ├───┤\n",
            "q_2 -> 1 ┤ Rz(π/6) ├────┤ H ├─────────────────────────■────┼──┤ H ├\n",
            "         ├─────────┴┐   ├───┤                  ┌───┐  │    │  └───┘\n",
            "q_1 -> 2 ┤ Rz(π/12) ├───┤ H ├───────────────■──┤ H ├──┼────┼───────\n",
            "         ├──────────┤   ├───┤               │  ├───┤  │    │       \n",
            "q_0 -> 3 ┤ Rz(π/10) ├───┤ H ├──────────■────┼──┤ H ├──┼────┼───────\n",
            "         └──┬───┬───┘┌──┴───┴──┐┌───┐┌─┴─┐┌─┴─┐└───┘┌─┴─┐┌─┴─┐┌───┐\n",
            "q_4 -> 4 ───┤ X ├────┤ Rz(π/4) ├┤ H ├┤ X ├┤ X ├─────┤ X ├┤ X ├┤ H ├\n",
            "            └───┘    └─────────┘└───┘└───┘└───┘     └───┘└───┘└───┘\n"
          ]
        }
      ]
    },
    {
      "cell_type": "code",
      "source": [
        "target_states = [22, 17, 27, 12]\n",
        "for state in target_states:\n",
        "    print(f\"Amplitude of state |{np.binary_repr(state, width=5)}⟩:\", statevector[state])"
      ],
      "metadata": {
        "colab": {
          "base_uri": "https://localhost:8080/"
        },
        "id": "XImSNzTvTd87",
        "outputId": "0179f09b-20c7-49fe-f015-582d4c5536b3"
      },
      "execution_count": 19,
      "outputs": [
        {
          "output_type": "stream",
          "name": "stdout",
          "text": [
            "Amplitude of state |10110⟩: -0j\n",
            "Amplitude of state |10001⟩: -0j\n",
            "Amplitude of state |11011⟩: -0j\n",
            "Amplitude of state |01100⟩: 0j\n"
          ]
        }
      ]
    },
    {
      "cell_type": "code",
      "source": [
        "print(\"Circuit Depth:\", optimized_circuit.depth())"
      ],
      "metadata": {
        "colab": {
          "base_uri": "https://localhost:8080/"
        },
        "id": "TeFl00fITgqD",
        "outputId": "a403655d-ab87-42f6-ea5d-960fb021a61c"
      },
      "execution_count": 21,
      "outputs": [
        {
          "output_type": "stream",
          "name": "stdout",
          "text": [
            "Circuit Depth: 8\n"
          ]
        }
      ]
    }
  ]
}